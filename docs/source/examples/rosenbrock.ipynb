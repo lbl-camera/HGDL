{
 "cells": [
  {
   "cell_type": "markdown",
   "metadata": {},
   "source": [
    "# This code runs a simple optimization of the Rosenbrock function. The optimum is located at x = [1,1]. The script starts and makes the main thread wait to illustrate that HGDL works behind the scenes on the problem. "
   ]
  },
  {
   "cell_type": "code",
   "execution_count": 1,
   "metadata": {
    "tags": [
     "scroll-output"
    ]
   },
   "outputs": [
    {
     "name": "stdout",
     "output_type": "stream",
     "text": [
      "this will create an hgdl object, sleep for 3 seconds, get the best result, sleep for 3 seconds,then get the final result.\n",
      "working on the epochs should happend even during sleeping\n",
      "\n",
      "main thread submitted HGDL and will now sleep for 10 seconds\n",
      "main thread asks for 10 best solutions:\n",
      "{'x': array([[1., 1.]]), 'func evals': array([0.]), 'classifier': ['minimum'], 'eigen values': array([[1.00160064e+03, 3.99360767e-01]]), 'gradient norm': array([5.51003687e-13]), 'success': True}\n",
      "main sleeps for another 3 seconds\n",
      "main thread kills optimization\n"
     ]
    },
    {
     "name": "stderr",
     "output_type": "stream",
     "text": [
      "/home/marcus/Coding/Professional/HGDL/hgdl/local_methods/local_optimizer.py:58: ComplexWarning: Casting complex values to real discards the imaginary part\n",
      "  x[i],f[i],grad_norm[i],eig[i],local_success[i] = results[i]\n"
     ]
    },
    {
     "name": "stdout",
     "output_type": "stream",
     "text": [
      "hgdl was killed but I am waiting 2s\n",
      "\n",
      "\n",
      "\n",
      "\n",
      "{'x': array([[1., 1.]]), 'func evals': array([0.]), 'classifier': ['minimum'], 'eigen values': array([[1.00160064e+03, 3.99360767e-01]]), 'gradient norm': array([5.51003687e-13]), 'success': True}\n"
     ]
    }
   ],
   "source": [
    "from hgdl.hgdl import HGDL\n",
    "def test_rosebrock():\n",
    "    from scipy.optimize import rosen, rosen_der, rosen_hess\n",
    "    import numpy as np\n",
    "    from hgdl.hgdl import HGDL\n",
    "    from time import sleep, perf_counter\n",
    "    print('this will create an hgdl object, sleep for 3'\n",
    "            ' seconds, get the best result, sleep for 3 seconds,'\n",
    "            'then get the final result.\\n'\n",
    "            'working on the epochs should happend even during sleeping\\n'\n",
    "            )\n",
    "    a = HGDL(rosen, rosen_der,[[-2,2],[-2,2]], hess = rosen_hess, radius = 0.1, num_epochs = 10000)\n",
    "    a.optimize()\n",
    "\n",
    "\n",
    "    print(\"main thread submitted HGDL and will now sleep for 10 seconds\")\n",
    "    sleep(3)\n",
    "    print(\"main thread asks for 10 best solutions:\")\n",
    "    print(a.get_latest(10))\n",
    "    print(\"main sleeps for another 3 seconds\")\n",
    "    sleep(3)\n",
    "    print(\"main thread kills optimization\")\n",
    "    res = a.kill_client()\n",
    "    print(\"hgdl was killed but I am waiting 2s\")\n",
    "    sleep(2)\n",
    "    print(\"\")\n",
    "    print(\"\")\n",
    "    print(\"\")\n",
    "    print(\"\")\n",
    "    print(res)\n",
    "\n",
    "\n",
    "test_rosebrock()"
   ]
  }
 ],
 "metadata": {
  "jupytext": {
   "formats": "ipynb,md:myst"
  },
  "kernelspec": {
   "display_name": "fvgp_env",
   "language": "python",
   "name": "fvgp_env"
  },
  "language_info": {
   "codemirror_mode": {
    "name": "ipython",
    "version": 3
   },
   "file_extension": ".py",
   "mimetype": "text/x-python",
   "name": "python",
   "nbconvert_exporter": "python",
   "pygments_lexer": "ipython3",
   "version": "3.8.10"
  }
 },
 "nbformat": 4,
 "nbformat_minor": 4
}

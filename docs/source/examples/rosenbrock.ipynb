{
 "cells": [
  {
   "cell_type": "markdown",
   "metadata": {},
   "source": [
    "# Rosenbrock Function"
   ]
  },
  {
   "cell_type": "markdown",
   "metadata": {},
   "source": [
    "## This code runs a simple optimization of the Rosenbrock function. The optimum is located at x = [1,1]. The script starts and makes the main thread wait to illustrate that HGDL works behind the scenes on the problem. "
   ]
  },
  {
   "cell_type": "code",
   "execution_count": null,
   "metadata": {
    "tags": [
     "scroll-output"
    ]
   },
   "outputs": [],
   "source": [
    "from hgdl.hgdl import HGDL\n",
    "def test_rosebrock():\n",
    "    from scipy.optimize import rosen, rosen_der, rosen_hess\n",
    "    import numpy as np\n",
    "    from hgdl.hgdl import HGDL\n",
    "    from time import sleep, perf_counter\n",
    "    print('this will create an hgdl object, sleep for 3'\n",
    "            ' seconds, get the best result, sleep for 3 seconds,'\n",
    "            'then get the final result.\\n'\n",
    "            'working on the epochs should happend even during sleeping\\n'\n",
    "            )\n",
    "    a = HGDL(rosen, rosen_der,[[-2,2],[-2,2]], hess = rosen_hess, radius = 0.1, num_epochs = 10000)\n",
    "    a.optimize()\n",
    "\n",
    "\n",
    "    print(\"main thread submitted HGDL and will now sleep for 10 seconds\")\n",
    "    sleep(3)\n",
    "    print(\"main thread asks for 10 best solutions:\")\n",
    "    print(a.get_latest(10))\n",
    "    print(\"main sleeps for another 3 seconds\")\n",
    "    sleep(3)\n",
    "    print(\"main thread kills optimization\")\n",
    "    res = a.kill_client()\n",
    "    print(\"hgdl was killed but I am waiting 2s\")\n",
    "    sleep(2)\n",
    "    print(\"\")\n",
    "    print(\"\")\n",
    "    print(\"\")\n",
    "    print(\"\")\n",
    "    print(res)\n",
    "\n",
    "\n",
    "test_rosebrock()"
   ]
  }
 ],
 "metadata": {
  "jupytext": {
   "formats": "ipynb,md:myst"
  },
  "kernelspec": {
   "display_name": "Python 3",
   "language": "python",
   "name": "python3"
  },
  "language_info": {
   "codemirror_mode": {
    "name": "ipython",
    "version": 3
   },
   "file_extension": ".py",
   "mimetype": "text/x-python",
   "name": "python",
   "nbconvert_exporter": "python",
   "pygments_lexer": "ipython3",
   "version": "3.8.10"
  }
 },
 "nbformat": 4,
 "nbformat_minor": 4
}

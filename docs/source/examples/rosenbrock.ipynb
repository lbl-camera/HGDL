{
 "cells": [
  {
   "cell_type": "markdown",
   "metadata": {},
   "source": [
    "# Optimizing the Rosenbrock Function\n",
    "The Rosenbrock function has only one optimum so that is what we would expect to find. "
   ]
  },
  {
   "cell_type": "markdown",
   "metadata": {},
   "source": [
    "## The optimum is located at x = [1,1]. The script starts and makes the main thread wait to illustrate that HGDL works behind the scenes on the problem. "
   ]
  },
  {
   "cell_type": "code",
   "execution_count": 4,
   "metadata": {
    "tags": [
     "scroll-output"
    ]
   },
   "outputs": [
    {
     "name": "stdout",
     "output_type": "stream",
     "text": [
      "this will create an hgdl object, sleep for 3 seconds, get the best result, sleep for 3 seconds,then get the final result.\n",
      "working on the epochs should happend even during sleeping\n",
      "\n",
      "main thread submitted HGDL and will now sleep for 3 seconds\n",
      "main thread asks for 10 best solutions:\n",
      "{'x': array([[1., 1.]]), 'f(x)': array([0.]), 'classifier': ['minimum'], 'Hessian eigvals': array([[1.00160064e+03, 3.99360767e-01]]), 'df/dx': array([[1.19904087e-14, 0.00000000e+00]]), '|df/dx|': array([1.19904087e-14]), 'success': True}\n",
      "main sleeps for another 3 seconds\n",
      "main thread kills optimization\n",
      "hgdl was killed but I am waiting 2s\n",
      "\n",
      "\n",
      "\n",
      "\n",
      "{'x': array([[1., 1.]]), 'f(x)': array([0.]), 'classifier': ['minimum'], 'Hessian eigvals': array([[1.00160064e+03, 3.99360767e-01]]), 'df/dx': array([[1.19904087e-14, 0.00000000e+00]]), '|df/dx|': array([1.19904087e-14]), 'success': True}\n"
     ]
    }
   ],
   "source": [
    "from hgdl.hgdl import HGDL\n",
    "def test_rosebrock():\n",
    "    from scipy.optimize import rosen, rosen_der, rosen_hess\n",
    "    import numpy as np\n",
    "    from hgdl.hgdl import HGDL\n",
    "    from time import sleep, perf_counter\n",
    "    print('this will create an hgdl object, sleep for 3'\n",
    "            ' seconds, get the best result, sleep for 3 seconds,'\n",
    "            'then get the final result.\\n'\n",
    "            'working on the epochs should happend even during sleeping\\n'\n",
    "            )\n",
    "    a = HGDL(rosen, rosen_der,np.array([[-2,2],[-2,2]]), hess = rosen_hess, radius = 0.1, num_epochs = 10000)\n",
    "    a.optimize()\n",
    "\n",
    "\n",
    "    print(\"main thread submitted HGDL and will now sleep for 3 seconds\")\n",
    "    sleep(3)\n",
    "    print(\"main thread asks for 10 best solutions:\")\n",
    "    print(a.get_latest())\n",
    "    print(\"main sleeps for another 3 seconds\")\n",
    "    sleep(3)\n",
    "    print(\"main thread kills optimization\")\n",
    "    res = a.kill_client()\n",
    "    print(\"hgdl was killed but I am waiting 2s\")\n",
    "    sleep(2)\n",
    "    print(\"\")\n",
    "    print(\"\")\n",
    "    print(\"\")\n",
    "    print(\"\")\n",
    "    print(res)\n",
    "\n",
    "\n",
    "test_rosebrock()"
   ]
  },
  {
   "cell_type": "code",
   "execution_count": null,
   "metadata": {},
   "outputs": [],
   "source": []
  }
 ],
 "metadata": {
  "jupytext": {
   "formats": "ipynb,md:myst"
  },
  "kernelspec": {
   "display_name": "hgdl",
   "language": "python",
   "name": "hgdl"
  },
  "language_info": {
   "codemirror_mode": {
    "name": "ipython",
    "version": 3
   },
   "file_extension": ".py",
   "mimetype": "text/x-python",
   "name": "python",
   "nbconvert_exporter": "python",
   "pygments_lexer": "ipython3",
   "version": "3.8.10"
  }
 },
 "nbformat": 4,
 "nbformat_minor": 4
}

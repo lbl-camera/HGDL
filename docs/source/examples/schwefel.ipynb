{
 "cells": [
  {
   "cell_type": "markdown",
   "id": "39be0051",
   "metadata": {},
   "source": [
    "# Optimizing Schwefel's Function"
   ]
  },
  {
   "cell_type": "markdown",
   "id": "dfced7b3",
   "metadata": {},
   "source": [
    "## This code finds optima of Schwefel's function. Schwefel's function has many optima and we want to find a lot of them. "
   ]
  },
  {
   "cell_type": "code",
   "execution_count": null,
   "id": "5d29dc63",
   "metadata": {
    "scrolled": false
   },
   "outputs": [],
   "source": [
    "import numpy as np\n",
    "from hgdl.hgdl import HGDL as hgdl\n",
    "from hgdl.support_functions import *\n",
    "import time\n",
    "import dask.distributed as distributed\n",
    "import tracemalloc\n",
    "\n",
    "\n",
    "\n",
    "\n",
    "arr  = 5\n",
    "brr  = 6\n",
    "bounds = np.array([[-500,500],[-500,500]])\n",
    "#dask_client = distributed.Client(\"10.0.0.184:8786\")\n",
    "a = hgdl(schwefel, schwefel_gradient, bounds,\n",
    "            hess = schwefel_hessian,\n",
    "            #global_optimizer = \"random\",\n",
    "            global_optimizer = \"genetic\",\n",
    "            #global_optimizer = \"gauss\",\n",
    "            local_optimizer = \"dNewton\",\n",
    "            number_of_optima = 30000,\n",
    "            args = (arr,brr), radius = None, num_epochs = 100)\n",
    "\n",
    "x0 = np.random.uniform(low = bounds[:, 0], high = bounds[:,1],size = (20,2))\n",
    "print(\"starting positions: \")\n",
    "print(x0)\n",
    "print(\"--------------------\")\n",
    "a.optimize(x0 = x0)\n",
    "    \n",
    "\n",
    "print(\"main thread submitted HGDL and will now sleep for 2 seconds\")\n",
    "time.sleep(2)\n",
    "print(\"main thread asks for 10 best solutions:\")\n",
    "print(a.get_latest())\n",
    "#a.cancel_tasks()\n",
    "print(\"main sleeps for another 2 seconds\")\n",
    "time.sleep(2)\n",
    "print(\"main thread kills optimization\")\n",
    "res = a.kill_client()\n",
    "print(\"hgdl was killed but I am waiting 2s\")\n",
    "print(\"\")\n",
    "print(\"\")\n",
    "print(\"\")\n",
    "print(\"\")\n",
    "print(res)\n"
   ]
  },
  {
   "cell_type": "markdown",
   "id": "3794edf3",
   "metadata": {},
   "source": [
    "## How did we do? \n",
    "For the plot to work, you will need plotly. No big deal, activate your environment and type \"pip install plotly\", then restart the notebook."
   ]
  },
  {
   "cell_type": "code",
   "execution_count": null,
   "id": "46160101",
   "metadata": {},
   "outputs": [],
   "source": [
    "import numpy as np\n",
    "import plotly.graph_objects as go\n",
    "\n",
    "def plot(x,y,z,data = None):\n",
    "    fig = go.Figure()\n",
    "    fig.add_trace(go.Surface(x = x, y = y,z=z))\n",
    "    if data is not None: \n",
    "        fig.add_trace(go.Scatter3d(x=data[:,0], y=data[:,1], z=data[:,2],\n",
    "                                   mode='markers')) \n",
    "\n",
    "    fig.update_layout(title='Surface Plot', autosize=True,\n",
    "                  width=800, height=800, font=dict(\n",
    "                  family=\"Courier New, monospace\",\n",
    "                  size=18),\n",
    "                  margin=dict(l=65, r=50, b=65, t=90))\n",
    "    fig.show()"
   ]
  },
  {
   "cell_type": "code",
   "execution_count": null,
   "id": "2bc51d9a",
   "metadata": {},
   "outputs": [],
   "source": [
    "x1,x2 = np.linspace(-500,500,100),np.linspace(-500,500,100)\n",
    "x_pred = np.transpose([np.tile(x1, len(x2)), np.repeat(x2, len(x1))])\n",
    "z = np.zeros((10000))\n",
    "for i in range(10000): \n",
    "    z[i] = schwefel(x_pred[i], 1, 1)\n",
    "data = np.column_stack([res[\"x\"],res[\"f(x)\"].reshape(-1,1)])\n",
    "plot(x1,x2,z.reshape(100,100).T, data = data)    "
   ]
  }
 ],
 "metadata": {
  "kernelspec": {
   "display_name": "Python 3 (ipykernel)",
   "language": "python",
   "name": "python3"
  },
  "language_info": {
   "codemirror_mode": {
    "name": "ipython",
    "version": 3
   },
   "file_extension": ".py",
   "mimetype": "text/x-python",
   "name": "python",
   "nbconvert_exporter": "python",
   "pygments_lexer": "ipython3",
   "version": "3.10.8"
  }
 },
 "nbformat": 4,
 "nbformat_minor": 5
}

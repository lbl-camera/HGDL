{
 "cells": [
  {
   "cell_type": "markdown",
   "id": "235b18f8",
   "metadata": {},
   "source": [
    "# This optimization is again of Schwefel's function, however, this time with a constraint. At this point, constraints are not deflated and optima can be reidentified. Deflated constraints will added soon.  "
   ]
  },
  {
   "cell_type": "code",
   "execution_count": null,
   "id": "588347ed",
   "metadata": {},
   "outputs": [],
   "source": [
    "import numpy as np\n",
    "from hgdl.hgdl import HGDL as hgdl\n",
    "from hgdl.support_functions import *\n",
    "import time\n",
    "import dask.distributed as distributed\n",
    "import tracemalloc\n",
    "from scipy.optimize import NonlinearConstraint\n",
    "\n",
    "\n",
    "def test_schwefel_constr():\n",
    "    arr  = 5\n",
    "    brr  = 6\n",
    "    bounds = np.array([[-500,500],[-500,500]])\n",
    "    def constraint(x):\n",
    "        return (np.linalg.norm(x)**2) - 100.\n",
    "    nlc = NonlinearConstraint(constraint, 0.,0.)\n",
    "    \n",
    "    \n",
    "    \n",
    "    #dask_client = distributed.Client(\"10.0.0.184:8786\")\n",
    "    a = hgdl(schwefel, schwefel_gradient, bounds,\n",
    "            hess = schwefel_hessian,\n",
    "            #global_optimizer = \"random\",\n",
    "            global_optimizer = \"genetic\",\n",
    "            #global_optimizer = \"gauss\",\n",
    "            local_optimizer = \"SLSQP\",\n",
    "            number_of_optima = 30000,\n",
    "            args = (arr,brr), radius = None, num_epochs = 100, constr = (nlc))\n",
    "\n",
    "    x0 = np.random.uniform(low = bounds[:, 0], high = bounds[:,1],size = (20,2))\n",
    "    print(\"starting positions: \")\n",
    "    print(x0)\n",
    "    print(\"--------------------\")\n",
    "    a.optimize(x0 = x0)\n",
    "    #a.optimize(dask_client = False)\n",
    "    #res = a.optima_list\n",
    "    #print(res)\n",
    "\n",
    "\n",
    "    #print(a.optima_list)\n",
    "    print(\"main thread submitted HGDL and will now sleep for 2 seconds\")\n",
    "    time.sleep(2)\n",
    "    print(\"main thread asks for 10 best solutions:\")\n",
    "    print(a.get_latest())\n",
    "    #a.cancel_tasks()\n",
    "    print(\"main sleeps for another 2 seconds\")\n",
    "    time.sleep(2)\n",
    "    print(\"main thread kills optimization\")\n",
    "    res = a.kill_client()\n",
    "    print(\"hgdl was killed but I am waiting 2s\")\n",
    "    print(\"\")\n",
    "    print(\"\")\n",
    "    print(\"\")\n",
    "    print(\"\")\n",
    "    print(res)\n",
    "\n",
    "if __name__ == '__main__':\n",
    "    test_schwefel_constr()"
   ]
  }
 ],
 "metadata": {
  "kernelspec": {
   "display_name": "Python 3",
   "language": "python",
   "name": "python3"
  },
  "language_info": {
   "codemirror_mode": {
    "name": "ipython",
    "version": 3
   },
   "file_extension": ".py",
   "mimetype": "text/x-python",
   "name": "python",
   "nbconvert_exporter": "python",
   "pygments_lexer": "ipython3",
   "version": "3.8.10"
  }
 },
 "nbformat": 4,
 "nbformat_minor": 5
}

{
 "cells": [
  {
   "cell_type": "code",
   "execution_count": 1,
   "metadata": {},
   "outputs": [],
   "source": [
    "from IPython.display import clear_output\n",
    "from matplotlib import pyplot as plt\n",
    "import numpy as np\n",
    "import collections\n",
    "%matplotlib inline\n",
    "\n",
    "def live_plot(data_dict, figsize=(7,5), title=''):\n",
    "    clear_output(wait=True)\n",
    "    plt.figure(figsize=figsize)\n",
    "    for label,data in data_dict.items():\n",
    "        plt.plot(data, label=label)\n",
    "    plt.title(title)\n",
    "    plt.grid(True)\n",
    "    plt.xlabel('epoch')\n",
    "    plt.legend(loc='center left') # the plot evolves to the right\n",
    "    plt.show();"
   ]
  },
  {
   "cell_type": "code",
   "execution_count": 2,
   "metadata": {},
   "outputs": [],
   "source": [
    "import plotly.graph_objects as go\n",
    "def plot(x,y,z,data = None, constr = None):\n",
    "    fig = go.Figure()\n",
    "    fig.add_trace(go.Surface(x = x, y = y,z=z))\n",
    "    if data is not None: \n",
    "        fig.add_trace(go.Scatter3d(x=data[:,0], y=data[:,1], z=data[:,2],\n",
    "                                   mode='markers'))\n",
    "    if constr is not None: \n",
    "        fig.add_trace(go.Scatter3d(x=constr[:,0], y=constr[:,1], z=constr[:,2],\n",
    "                                   mode='markers')) \n",
    "\n",
    "    fig.update_layout(title='Surface Plot', autosize=True,\n",
    "                  width=800, height=800, font=dict(\n",
    "                  family=\"Courier New, monospace\",\n",
    "                  size=18),\n",
    "                  margin=dict(l=65, r=50, b=65, t=90))\n",
    "\n",
    "    fig.show()"
   ]
  },
  {
   "cell_type": "code",
   "execution_count": 3,
   "metadata": {},
   "outputs": [],
   "source": [
    "def make_plot(data = None):\n",
    "    x1,x2 = np.linspace(-500,500,100),np.linspace(-500,500,100)\n",
    "    x_pred = np.transpose([np.tile(x1, len(x2)), np.repeat(x2, len(x1))])\n",
    "    r = np.sqrt(160000.)\n",
    "    c1,c2 = r*np.cos(np.linspace(0,2.*np.pi,100)),r*np.sin(np.linspace(0,2.*np.pi,100))\n",
    "    c3 = np.zeros((len(c2)))\n",
    "    x1,x2 = np.meshgrid(x1,x2)\n",
    "    z = np.zeros((10000))\n",
    "    c = np.zeros((10000))\n",
    "    for i in range(10000): \n",
    "        z[i] = schwefel(x_pred[i], 1, 1)\n",
    "        c[i] = g(x_pred[i],1,1)\n",
    "    for i in range(len(c1)):\n",
    "        c3[i]= schwefel(np.array([c1[i],c2[i]]), 1, 1)\n",
    "    plot(x1,x2,z.reshape(100,100).T, data = data, constr = np.column_stack([c1,c2,c3]))\n",
    "    plot(x1,x2,c.reshape(100,100).T)"
   ]
  },
  {
   "cell_type": "code",
   "execution_count": 4,
   "metadata": {
    "scrolled": false
   },
   "outputs": [
    {
     "name": "stdout",
     "output_type": "stream",
     "text": [
      "main thread submitted HGDL and will now sleep for 5 seconds\n",
      "JHGFHGFGHJFH:  [[ 1.36986152e-06  1.11640186e-07]\n",
      " [-1.49688003e-06  3.50608604e-07]\n",
      " [ 1.07868091e+01  2.35507557e-06]]\n",
      "JHGFHGFGHJFH:  [[ 1.89279140e-07  1.18238678e-07]\n",
      " [-2.17573229e-08  4.48827788e-08]\n",
      " [ 8.44176499e+00 -1.34805592e+00]]\n"
     ]
    },
    {
     "name": "stderr",
     "output_type": "stream",
     "text": [
      "distributed.worker - WARNING - Compute Failed\n",
      "Function:  hgdl\n",
      "args:      ({'transfer data': <distributed.variable.Variable object at 0x7f7971ddb850>, 'break condition': <distributed.variable.Variable object at 0x7f7971ddbaf0>, 'optima': <hgdl.optima.optima object at 0x7f7971ddbcd0>, 'metadata': <hgdl.meta_data.meta_data object at 0x7f7971ddbd60>})\n",
      "kwargs:    {}\n",
      "Exception: 'AttributeError(\"\\'dict\\' object has no attribute \\'list\\'\")'\n",
      "\n"
     ]
    },
    {
     "name": "stdout",
     "output_type": "stream",
     "text": [
      "main thread asks for 10 best solutions:\n",
      "{'x': array([[ 420.96874043,  203.81425402],\n",
      "       [-302.5249302 , -302.52493517],\n",
      "       [-500.        , -302.52492631],\n",
      "       [-124.82935569, -124.82935596],\n",
      "       [  65.54786501,  -25.87741719]]), 'f(x)': array([217.13969485, 236.87669468, 356.83208881, 592.21345297,\n",
      "       750.24785783]), 'classifier': ['optimum', 'optimum', 'degenerate', 'optimum', 'optimum'], 'Hessian eigvals': array([[nan, nan],\n",
      "       [nan, nan],\n",
      "       [nan, nan],\n",
      "       [nan, nan],\n",
      "       [nan, nan]]), 'df/dx': array([ 1.11640186e-07,  1.36986152e-06, -1.49688003e-06,  1.89279140e-07,\n",
      "        1.18238678e-07]), '|df/dx|': array([1.53739266e-06, 1.37440319e-06, 1.07868091e+01, 2.23174770e-07,\n",
      "       4.98783013e-08]), 'success': True}\n"
     ]
    },
    {
     "ename": "AttributeError",
     "evalue": "'dict' object has no attribute 'list'",
     "output_type": "error",
     "traceback": [
      "\u001b[0;31m---------------------------------------------------------------------------\u001b[0m",
      "\u001b[0;31mAttributeError\u001b[0m                            Traceback (most recent call last)",
      "Input \u001b[0;32mIn [4]\u001b[0m, in \u001b[0;36m<module>\u001b[0;34m\u001b[0m\n\u001b[1;32m     44\u001b[0m time\u001b[38;5;241m.\u001b[39msleep(\u001b[38;5;241m5\u001b[39m)\n\u001b[1;32m     45\u001b[0m \u001b[38;5;28mprint\u001b[39m(\u001b[38;5;124m\"\u001b[39m\u001b[38;5;124mmain thread asks for 10 best solutions:\u001b[39m\u001b[38;5;124m\"\u001b[39m)\n\u001b[0;32m---> 46\u001b[0m \u001b[38;5;28mprint\u001b[39m(\u001b[43ma\u001b[49m\u001b[38;5;241;43m.\u001b[39;49m\u001b[43mget_latest\u001b[49m\u001b[43m(\u001b[49m\u001b[43m)\u001b[49m)\n\u001b[1;32m     47\u001b[0m \u001b[38;5;66;03m#a.cancel_tasks()\u001b[39;00m\n\u001b[1;32m     48\u001b[0m \u001b[38;5;28mprint\u001b[39m(\u001b[38;5;124m\"\u001b[39m\u001b[38;5;124mmain sleeps for another 2 seconds\u001b[39m\u001b[38;5;124m\"\u001b[39m)\n",
      "File \u001b[0;32m~/Coding/Professional/HGDL/hgdl/hgdl.py:196\u001b[0m, in \u001b[0;36mHGDL.get_latest\u001b[0;34m(self, n)\u001b[0m\n\u001b[1;32m    194\u001b[0m     logger\u001b[38;5;241m.\u001b[39merror(\u001b[38;5;124m\"\u001b[39m\u001b[38;5;124mHGDL get_latest failed due to \u001b[39m\u001b[38;5;132;01m{}\u001b[39;00m\u001b[38;5;124m \u001b[39m\u001b[38;5;130;01m\\n\u001b[39;00m\u001b[38;5;124m optima list unchanged\u001b[39m\u001b[38;5;124m\"\u001b[39m, \u001b[38;5;28mstr\u001b[39m(err))\n\u001b[1;32m    195\u001b[0m \u001b[38;5;28mprint\u001b[39m(\u001b[38;5;28mself\u001b[39m\u001b[38;5;241m.\u001b[39moptima, flush \u001b[38;5;241m=\u001b[39m \u001b[38;5;28;01mTrue\u001b[39;00m)\n\u001b[0;32m--> 196\u001b[0m optima_list \u001b[38;5;241m=\u001b[39m \u001b[38;5;28;43mself\u001b[39;49m\u001b[38;5;241;43m.\u001b[39;49m\u001b[43moptima\u001b[49m\u001b[38;5;241;43m.\u001b[39;49m\u001b[43mlist\u001b[49m\n\u001b[1;32m    197\u001b[0m \u001b[38;5;28;01mif\u001b[39;00m n \u001b[38;5;129;01mis\u001b[39;00m \u001b[38;5;129;01mnot\u001b[39;00m \u001b[38;5;28;01mNone\u001b[39;00m: n \u001b[38;5;241m=\u001b[39m \u001b[38;5;28mmin\u001b[39m(n,\u001b[38;5;28mlen\u001b[39m(optima_list[\u001b[38;5;124m\"\u001b[39m\u001b[38;5;124mx\u001b[39m\u001b[38;5;124m\"\u001b[39m]))\n\u001b[1;32m    198\u001b[0m \u001b[38;5;28;01melse\u001b[39;00m: n \u001b[38;5;241m=\u001b[39m \u001b[38;5;28mlen\u001b[39m(optima_list[\u001b[38;5;124m\"\u001b[39m\u001b[38;5;124mx\u001b[39m\u001b[38;5;124m\"\u001b[39m])\n",
      "\u001b[0;31mAttributeError\u001b[0m: 'dict' object has no attribute 'list'"
     ]
    }
   ],
   "source": [
    "import numpy as np\n",
    "from hgdl.hgdl import HGDL as hgdl\n",
    "from hgdl.support_functions import *\n",
    "from hgdl.constraints import NonLinearConstraint\n",
    "import time\n",
    "import dask.distributed as distributed\n",
    "import tracemalloc\n",
    "\n",
    "def g(x, arr, barr):\n",
    "    return (np.linalg.norm(x)**2/10.0) - 16000.0\n",
    "\n",
    "def g_grad(x, arr, barr):\n",
    "    return (2./10.) * x\n",
    "\n",
    "def g_hess(x, arr, barr):\n",
    "    return np.identity(len(x)) * (2./10.)\n",
    "\n",
    "con = NonLinearConstraint(g,g_grad,g_hess)\n",
    "\n",
    "from scipy.optimize import minimize\n",
    "\n",
    "arr  = 5\n",
    "brr  = 6\n",
    "bounds = np.array([[-500,500],[-500,500]])\n",
    "a = hgdl(schwefel, schwefel_gradient, bounds,\n",
    "            #hess = schwefel_hessian,\n",
    "            hess = schwefel_hessian,\n",
    "            #global_optimizer = \"random\",\n",
    "            global_optimizer = \"genetic\",\n",
    "            #global_optimizer = \"gauss\",\n",
    "            local_optimizer = \"L-BFGS-B\",\n",
    "            number_of_optima = 30000,\n",
    "            args = (arr,brr), radius = None, num_epochs = 100, constraints = ())\n",
    "\n",
    "#for constrained optimization, we recommend letting the algorithms choose the starting positions\n",
    "#x0 = np.random.uniform(low = np.ones((2)) * -200., high = np.ones((2)) * 200.,size = (20,2))\n",
    "    \n",
    "a.optimize()\n",
    "\n",
    "\n",
    "\n",
    "#print(a.optima_list)\n",
    "print(\"main thread submitted HGDL and will now sleep for 5 seconds\")\n",
    "time.sleep(5)\n",
    "print(\"main thread asks for 10 best solutions:\")\n",
    "print(a.get_latest())\n",
    "#a.cancel_tasks()\n",
    "print(\"main sleeps for another 2 seconds\")\n",
    "time.sleep(2)\n",
    "print(\"main thread kills optimization\")\n",
    "res = a.kill_client()\n",
    "print(\"hgdl was killed but I am waiting 2s\")\n",
    "print(\"\")\n",
    "print(\"\")\n",
    "print(\"\")\n",
    "print(\"\")\n",
    "\n",
    "#print(fe)\n",
    "\n",
    "\n",
    "\n"
   ]
  },
  {
   "cell_type": "code",
   "execution_count": null,
   "metadata": {
    "scrolled": false
   },
   "outputs": [],
   "source": [
    "print(np.column_stack([res[\"x\"],res[\"k\"]]))"
   ]
  },
  {
   "cell_type": "code",
   "execution_count": null,
   "metadata": {
    "scrolled": false
   },
   "outputs": [],
   "source": [
    "print(res[\"x\"])\n",
    "fe = np.ones(len(res[\"x\"]))\n",
    "for i in range(len(res[\"x\"])): fe[i] = schwefel(res[\"x\"][i,0:2],1,1)\n",
    "make_plot(data = np.column_stack([res[\"x\"][:,0:2],fe]))"
   ]
  },
  {
   "cell_type": "code",
   "execution_count": null,
   "metadata": {},
   "outputs": [],
   "source": []
  }
 ],
 "metadata": {
  "kernelspec": {
   "display_name": "fvgp_env",
   "language": "python",
   "name": "fvgp_env"
  },
  "language_info": {
   "codemirror_mode": {
    "name": "ipython",
    "version": 3
   },
   "file_extension": ".py",
   "mimetype": "text/x-python",
   "name": "python",
   "nbconvert_exporter": "python",
   "pygments_lexer": "ipython3",
   "version": "3.8.10"
  }
 },
 "nbformat": 4,
 "nbformat_minor": 4
}

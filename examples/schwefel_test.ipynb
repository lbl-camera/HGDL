{
 "cells": [
  {
   "cell_type": "code",
   "execution_count": null,
   "metadata": {},
   "outputs": [],
   "source": [
    "import numpy as np\n",
    "from hgdl.hgdl import HGDL as hgdl\n",
    "from hgdl.support_functions import *\n",
    "import time\n",
    "import dask.distributed as distributed\n",
    "import tracemalloc\n",
    "%load_ext autoreload\n",
    "%autoreload 2"
   ]
  },
  {
   "cell_type": "code",
   "execution_count": null,
   "metadata": {},
   "outputs": [],
   "source": [
    "def test_schwefel():\n",
    "    arr  = 5\n",
    "    brr  = 6\n",
    "    bounds = np.array([[-500,500],[-500,500]])\n",
    "    a = hgdl(schwefel, schwefel_gradient, bounds,\n",
    "            hess = schwefel_hessian,\n",
    "            global_optimizer = \"genetic\",\n",
    "            local_optimizer = \"dNewton\",\n",
    "            number_of_optima = 30000,\n",
    "            args = (arr,brr), radius = 10., num_epochs = 100)\n",
    "\n",
    "    x0 = np.random.uniform(low = bounds[:, 0], high = bounds[:,1],size = (20,2))\n",
    "    print(\"starting positions: \")\n",
    "    print(x0)\n",
    "    print(\"--------------------\")\n",
    "    a.optimize(x0 = x0)\n",
    "    return a"
   ]
  },
  {
   "cell_type": "code",
   "execution_count": null,
   "metadata": {
    "scrolled": true
   },
   "outputs": [],
   "source": [
    "opt_obj = test_schwefel()\n",
    "print(\"HGDL is running in the background. You can ask it about solutions via 'get_latest' or cancel the run via 'kill_client'\")"
   ]
  },
  {
   "cell_type": "code",
   "execution_count": null,
   "metadata": {},
   "outputs": [],
   "source": [
    "print(opt_obj .get_latest())"
   ]
  },
  {
   "cell_type": "code",
   "execution_count": null,
   "metadata": {},
   "outputs": [],
   "source": [
    "res = opt_obj.kill_client()\n",
    "print(\"hgdl was killed but I am waiting 2s\")\n",
    "print(\"\")\n",
    "print(\"\")\n",
    "print(\"\")\n",
    "print(\"\")\n",
    "print(res)"
   ]
  }
 ],
 "metadata": {
  "kernelspec": {
   "display_name": "hgdl",
   "language": "python",
   "name": "hgdl"
  },
  "language_info": {
   "codemirror_mode": {
    "name": "ipython",
    "version": 3
   },
   "file_extension": ".py",
   "mimetype": "text/x-python",
   "name": "python",
   "nbconvert_exporter": "python",
   "pygments_lexer": "ipython3",
   "version": "3.8.10"
  }
 },
 "nbformat": 4,
 "nbformat_minor": 4
}
